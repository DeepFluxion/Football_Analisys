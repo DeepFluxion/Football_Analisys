{
 "cells": [
  {
   "cell_type": "markdown",
   "metadata": {
    "slideshow": {
     "slide_type": "slide"
    }
   },
   "source": [
    "# Uma introdução matemática zero aos métodos de Monte Carlo da cadeia de Markov\n",
    "**Traduzido de A Zero-Math Introduction to Markov Chain Monte Carlo Methods Ben Shaver (2017) disponível neste [link](https://towardsdatascience.com/a-zero-math-introduction-to-markov-chain-monte-carlo-methods-dcba889e0c50)**"
   ]
  },
  {
   "cell_type": "markdown",
   "metadata": {
    "slideshow": {
     "slide_type": "slide"
    }
   },
   "source": [
    "Para muitos de nós, a estatística bayesiana é, na melhor das hipóteses, mágica vodu ou, na pior, um absurdo totalmente subjetivo. \n",
    "\n",
    "Entre as marcas registradas da abordagem bayesiana, os métodos de Monte Carlo da cadeia de Markov são especialmente misteriosos. \n",
    "\n",
    "Eles são procedimentos matemáticos pesados e computacionalmente caros, com certeza, mas o raciocínio básico por trás deles, como tantas outras coisas na ciência de dados, pode ser intuitivo. Esse é o meu objetivo aqui."
   ]
  },
  {
   "cell_type": "markdown",
   "metadata": {
    "slideshow": {
     "slide_type": "slide"
    }
   },
   "source": [
    "Então, quais são os métodos de Monte Carlo em cadeia de Markov (MCMC)? A resposta curta é:\n",
    "\n",
    "> Métodos MCMC são usados para aproximar a distribuição posterior de um parâmetro de interesse por amostragem aleatória em um espaço probabilístico.\n",
    "\n",
    "Neste artigo, vou explicar essa resposta curta, sem nenhuma matemática.\n",
    "\n",
    "Primeiro, alguma terminologia. \n",
    "\n",
    "Um parâmetro de interesse é apenas um número que resume um fenômeno no qual estamos interessados. \n",
    "\n",
    "Em geral, usamos estatísticas para estimar parâmetros. \n",
    "\n",
    "Por exemplo, se quisermos aprender sobre a altura de humanos adultos, nosso parâmetro de interesse pode ser a altura média em polegadas. \n",
    "\n",
    "Uma distribuição é uma representação matemática de todos os valores possíveis de nosso parâmetro e da probabilidade de observar cada um. \n",
    "\n",
    "O exemplo mais famoso é uma curva de sino:"
   ]
  },
  {
   "cell_type": "markdown",
   "metadata": {
    "slideshow": {
     "slide_type": "subslide"
    }
   },
   "source": [
    "![Imagem](https://miro.medium.com/max/875/0*ZnhfX8oUe0biQRR6.)"
   ]
  },
  {
   "cell_type": "markdown",
   "metadata": {
    "slideshow": {
     "slide_type": "slide"
    }
   },
   "source": [
    "Na maneira bayesiana de fazer estatísticas, as distribuições têm uma interpretação adicional. \n",
    "\n",
    "Em vez de apenas representar os valores de um parâmetro e a probabilidade de cada um ser o valor verdadeiro, um Bayesiano pensa em uma distribuição como uma descrição de nossas crenças sobre um parâmetro. \n",
    "\n",
    "Portanto, a curva do sino acima mostra que temos certeza de que o valor do parâmetro é quase zero, mas achamos que há uma probabilidade igual de o valor verdadeiro estar acima ou abaixo desse valor, até certo ponto.  \n",
    "\n",
    "Por acaso, as alturas humanas seguem uma curva normal, então digamos que acreditamos que o verdadeiro valor da altura humana média segue uma curva em forma de sino como esta:"
   ]
  },
  {
   "cell_type": "markdown",
   "metadata": {
    "slideshow": {
     "slide_type": "subslide"
    }
   },
   "source": [
    "![Figura](https://miro.medium.com/max/875/0*tlqbgInNAYyi3dgx.)"
   ]
  },
  {
   "cell_type": "markdown",
   "metadata": {
    "slideshow": {
     "slide_type": "fragment"
    }
   },
   "source": [
    "Claramente, a pessoa com crenças representadas por este gráfico vive entre gigantes há anos, porque até onde eles sabem, a altura adulta média mais provável é 6'2 \" ou 1.83 m (mas eles não são superconfiantes de uma forma ou de outra).  \n",
    "\n",
    "Vamos imaginar que essa pessoa foi e coletou alguns dados, e observou um intervalo de pessoas entre 5 'e 6'. Podemos representar esses dados abaixo, junto com outra curva normal que mostra quais valores de altura humana média melhor explicam os dados:"
   ]
  },
  {
   "cell_type": "markdown",
   "metadata": {
    "slideshow": {
     "slide_type": "subslide"
    }
   },
   "source": [
    "![Imagem](https://miro.medium.com/max/875/0*kkaO7QpZeGOg9DRf.)"
   ]
  },
  {
   "cell_type": "markdown",
   "metadata": {
    "slideshow": {
     "slide_type": "slide"
    }
   },
   "source": [
    "Nas estatísticas bayesianas, a distribuição que representa nossas crenças sobre um parâmetro é chamada de **distribuição a priori ou anterior (prior distribution)**, porque captura nossas crenças antes de ver qualquer dado.  \n",
    "\n",
    "A distribuição de verossimilhança **(likelihood distribution)** resume o que os dados observados nos dizem, representando uma gama de valores de parâmetros acompanhados pela probabilidade de que cada parâmetro explique os dados que estamos observando. \n",
    "\n",
    "Estimar o valor do parâmetro que maximiza a distribuição de verossimilhança é apenas responder à pergunta: qual valor do parâmetro tornaria mais provável observar os dados que observamos? \n",
    "\n",
    "Na ausência de crenças anteriores, podemos parar por aí."
   ]
  },
  {
   "cell_type": "markdown",
   "metadata": {
    "slideshow": {
     "slide_type": "subslide"
    }
   },
   "source": [
    "A chave para a análise bayesiana, entretanto, é combinar a distribuição anterior e a de verossimilhança para determinar a **distribuição posterior (posterior distribution)**. \n",
    "\n",
    "Isso nos diz quais valores de parâmetro maximizam a chance de observar os dados específicos que fizemos, levando em consideração nossas crenças anteriores. Em nosso caso, a distribuição posterior se parece com esta:"
   ]
  },
  {
   "cell_type": "markdown",
   "metadata": {
    "slideshow": {
     "slide_type": "subslide"
    }
   },
   "source": [
    "![Imagem](https://miro.medium.com/max/875/0*3M3HCM8goJjlS-KX.)"
   ]
  },
  {
   "cell_type": "markdown",
   "metadata": {
    "slideshow": {
     "slide_type": "subslide"
    }
   },
   "source": [
    "## O que é verossimilhança (em Estatística)\n",
    "\n",
    "Em estatística, a estimativa por máxima verossimilhança (maximum-likelihood estimation- MLE) é um método para estimar os parâmetros de um modelo estatístico. \n",
    "\n",
    "Assim, a partir de um conjunto de dados e dado um modelo estatístico, a estimativa por máxima verossimilhança estima valores para os diferentes parâmetros do modelo.\n",
    "\n",
    "Por exemplo, alguém pode estar interessado na altura de girafas fêmeas adultas, mas devido à restrições de custo ou tempo, medir a altura de todas essas girafas de uma população pode ser impossível. \n",
    "\n",
    "Podemos assumir que as alturas são normalmente distribuídas (modelo estatístico), mas desconhecemos a média e variância (parâmetros do modelo) dessa distribuição. \n",
    "\n",
    "Esses parâmetros da distribuição podem então ser estimados por MLE a partir da medição de uma amostra da população. "
   ]
  },
  {
   "cell_type": "markdown",
   "metadata": {
    "slideshow": {
     "slide_type": "slide"
    }
   },
   "source": [
    "O método busca aqueles valores para os parâmetros de maneira a maximizar a probabilidade dos dados amostrados, dado o modelo assumido (no caso, distribuição normal).\n",
    "***\n",
    "> **De maneira geral, posto um conjunto de dados e um modelo estatístico, o método de máxima verossimilhança estima os valores dos diferentes parâmetros do modelo estatístico de maneira a maximizar a probabilidade dos dados observados (isto é, busca parâmetros que maximizem a função de verossimilhança).**\n",
    "***\n",
    "> **O método de máxima verossimilhança apresenta-se como um método geral para estimação de parâmetros, principalmente no caso de distribuições normais.**"
   ]
  },
  {
   "cell_type": "markdown",
   "metadata": {
    "slideshow": {
     "slide_type": "slide"
    }
   },
   "source": [
    "![Imagem](https://miro.medium.com/max/875/0*3M3HCM8goJjlS-KX.)\n",
    "\n",
    "Acima, a linha vermelha representa a distribuição posterior. Você pode pensar nisso como uma espécie de média das distribuições anteriores e de probabilidade. \n",
    "\n",
    "Uma vez que a distribuição anterior é mais curta e mais espalhada, ela representa um conjunto de crenças que é \"menos certo\" sobre o verdadeiro valor da altura humana média. \n",
    "\n",
    "Enquanto isso, a probabilidade resume os dados dentro de um intervalo relativamente estreito, portanto, representa uma estimativa \"mais segura\" sobre o verdadeiro valor do parâmetro."
   ]
  },
  {
   "cell_type": "markdown",
   "metadata": {
    "slideshow": {
     "slide_type": "slide"
    }
   },
   "source": [
    "Quando a probabilidade anterior é combinada, os dados (representados pela probabilidade) dominam as crenças anteriores fracas do indivíduo hipotético que cresceu entre gigantes. \n",
    "\n",
    "Embora aquele indivíduo ainda acredite que a altura humana média é ligeiramente mais alta do que apenas o que os dados estão dizendo, ele está mais convencido pelos dados."
   ]
  },
  {
   "cell_type": "markdown",
   "metadata": {
    "slideshow": {
     "slide_type": "slide"
    }
   },
   "source": [
    "No caso de duas curvas em sino, resolver a distribuição posterior é muito fácil. Existe uma equação simples para combinar os dois. \n",
    "\n",
    "Mas e se nossas distribuições anteriores e de probabilidade não fossem tão bem comportadas? Às vezes, é mais preciso modelar nossos dados ou nossas crenças anteriores usando distribuições que não têm formas convenientes. \n",
    "\n",
    "E se nossa probabilidade fosse melhor representada por uma distribuição com dois picos e, por algum motivo, quiséssemos levar em conta alguma distribuição anterior realmente maluca? Eu visualizei esse cenário abaixo, desenhando à mão uma distribuição anterior feia:"
   ]
  },
  {
   "cell_type": "markdown",
   "metadata": {
    "slideshow": {
     "slide_type": "slide"
    }
   },
   "source": [
    "![Imagem](https://miro.medium.com/max/875/0*PcWai087HhpJtbkm.)"
   ]
  },
  {
   "cell_type": "markdown",
   "metadata": {
    "slideshow": {
     "slide_type": "slide"
    }
   },
   "source": [
    "Como antes, existe alguma distribuição posterior que dá a probabilidade para cada valor de parâmetro. Mas é um pouco difícil ver como pode ser e é impossível resolver analiticamente. Insira os métodos MCMC.\n",
    "\n",
    "Os métodos MCMC nos permitem estimar a forma de uma distribuição posterior, caso não possamos computá-la diretamente. \n",
    "\n",
    "Lembre-se de que MCMC significa métodos de Monte Carlo da cadeia de Markov. Para entender como eles funcionam, vou apresentar as simulações de Monte Carlo primeiro e, em seguida, discutir as cadeias de Markov."
   ]
  },
  {
   "cell_type": "markdown",
   "metadata": {
    "slideshow": {
     "slide_type": "slide"
    }
   },
   "source": [
    "## Simulação de Monte Carlo\n",
    "***"
   ]
  },
  {
   "cell_type": "markdown",
   "metadata": {
    "slideshow": {
     "slide_type": "fragment"
    }
   },
   "source": [
    "As simulações de Monte Carlo são apenas uma forma de estimar um parâmetro fixo gerando repetidamente números aleatórios. Pegando os números aleatórios gerados e fazendo alguns cálculos neles, as simulações de Monte Carlo fornecem uma aproximação de um parâmetro onde calculá-lo diretamente é impossível ou proibitivamente caro.  \n",
    "\n",
    "Suponha que gostaríamos de estimar a área do círculo a seguir:"
   ]
  },
  {
   "cell_type": "markdown",
   "metadata": {
    "slideshow": {
     "slide_type": "subslide"
    }
   },
   "source": [
    "![Imagem](https://miro.medium.com/max/875/0*OVzsV_Mw2OGi1mQ4.)"
   ]
  },
  {
   "cell_type": "markdown",
   "metadata": {
    "slideshow": {
     "slide_type": "slide"
    }
   },
   "source": [
    "Como o círculo está dentro de um quadrado com lados de 10 polegadas, a área pode ser facilmente calculada como 78,5 polegadas quadradas. Em vez disso, no entanto, podemos colocar 20 pontos aleatoriamente dentro do quadrado. \n",
    "\n",
    "Então contamos a proporção de pontos que caíram dentro do círculo e multiplicamos pela área do quadrado. Esse número é uma boa aproximação da área do círculo."
   ]
  },
  {
   "cell_type": "markdown",
   "metadata": {
    "slideshow": {
     "slide_type": "fragment"
    }
   },
   "source": [
    "![Imagem](https://miro.medium.com/max/875/0*OuLZBu6HPdhignVB.)"
   ]
  },
  {
   "cell_type": "markdown",
   "metadata": {
    "slideshow": {
     "slide_type": "slide"
    }
   },
   "source": [
    "Como o círculo está dentro de um quadrado com lados de 10 polegadas, a área pode ser facilmente calculada como 78,5 polegadas quadradas. \n",
    "\n",
    "Em vez disso, no entanto, podemos colocar 20 pontos aleatoriamente dentro do quadrado. Então contamos a proporção de pontos que caíram dentro do círculo e multiplicamos pela área do quadrado. Esse número é uma boa aproximação da área do círculo. \n",
    "\n",
    "Como 15 dos 20 pontos estão dentro do círculo, parece que o círculo tem aproximadamente 75 polegadas quadradas. Nada mal para uma simulação de Monte Carlo com apenas 20 pontos aleatórios.\n",
    "\n",
    "Agora, imagine que gostaríamos de calcular a área da forma plotada pela [Equação do Batman](http://mathworld.wolfram.com/BatmanCurve.html):"
   ]
  },
  {
   "cell_type": "markdown",
   "metadata": {
    "slideshow": {
     "slide_type": "slide"
    }
   },
   "source": [
    "![Batman](https://miro.medium.com/max/875/0*5ahw9HtOjbMK0tmO.)"
   ]
  },
  {
   "cell_type": "markdown",
   "metadata": {
    "slideshow": {
     "slide_type": "slide"
    }
   },
   "source": [
    "Aqui está uma forma para a qual nunca aprendemos uma equação! \n",
    "\n",
    "Portanto, encontrar a área do sinal do morcego é muito difícil.  \n",
    "\n",
    "No entanto, ao soltar pontos aleatoriamente dentro de um retângulo contendo a forma, as simulações de Monte Carlo podem fornecer uma aproximação da área com bastante facilidade!"
   ]
  },
  {
   "cell_type": "markdown",
   "metadata": {
    "slideshow": {
     "slide_type": "fragment"
    }
   },
   "source": [
    "As simulações de Monte Carlo não são usadas apenas para estimar a área de formas difíceis.  \n",
    "\n",
    "Ao gerar muitos números aleatórios, eles podem ser usados para modelar processos muito complicados. Na prática, eles são usados para prever o tempo ou estimar a probabilidade de ganhar uma eleição."
   ]
  },
  {
   "cell_type": "markdown",
   "metadata": {
    "slideshow": {
     "slide_type": "slide"
    }
   },
   "source": [
    "## Introdução às Cadeias de Markov\n",
    "O que são cadeias de Markov, quando usá-las e como funcionam\n",
    "***"
   ]
  },
  {
   "cell_type": "markdown",
   "metadata": {
    "slideshow": {
     "slide_type": "fragment"
    }
   },
   "source": [
    "![MC](https://miro.medium.com/max/645/1*jcbUF7dAhAIRS8nfUlNtow.gif)"
   ]
  },
  {
   "cell_type": "markdown",
   "metadata": {
    "slideshow": {
     "slide_type": "subslide"
    }
   },
   "source": [
    "O segundo elemento para entender os métodos MCMC são as cadeias de Markov. Essas são simplesmente sequências de eventos que estão probabilisticamente relacionados uns aos outros.  \n",
    "\n",
    "Cada evento vem de um conjunto de resultados, e cada resultado determina qual resultado ocorre a seguir, de acordo com um conjunto fixo de probabilidades."
   ]
  },
  {
   "cell_type": "markdown",
   "metadata": {
    "slideshow": {
     "slide_type": "fragment"
    }
   },
   "source": [
    "Uma característica importante das cadeias de Markov é que elas não têm memória: tudo o que você possivelmente precisaria para prever o próximo evento está disponível no estado atual e nenhuma informação nova vem do conhecimento do histórico de eventos. Um jogo como [Chutes and Ladders](http://jakevdp.github.io/blog/2017/12/18/simulating-chutes-and-ladders/) exibe essa falta de memória, ou **propriedade de Markov**, mas poucas coisas no mundo real realmente funcionam dessa maneira. No entanto, as cadeias de Markov são formas poderosas de compreender o mundo."
   ]
  },
  {
   "cell_type": "markdown",
   "metadata": {
    "slideshow": {
     "slide_type": "slide"
    }
   },
   "source": [
    "No século 19, a curva em sino foi observada como um padrão comum na natureza. (Observamos, por exemplo, que as alturas humanas seguem uma curva em forma de sino.) \n",
    "\n",
    "As placas de Galton, que simulam os valores médios de eventos aleatórios repetidos jogando bolinhas de gude através de uma tábua com pinos, reproduzem a curva normal em sua distribuição de bolinhas:"
   ]
  },
  {
   "cell_type": "markdown",
   "metadata": {
    "slideshow": {
     "slide_type": "fragment"
    }
   },
   "source": [
    "![Galton](https://miro.medium.com/max/875/0*HDeFoQPFGs9ueUI0.)"
   ]
  },
  {
   "cell_type": "markdown",
   "metadata": {
    "slideshow": {
     "slide_type": "slide"
    }
   },
   "source": [
    "Pavel Nekrasov, um matemático e teólogo russo, argumentou que a curva do sino e, de forma mais geral, a lei dos grandes números, eram simplesmente artefatos de jogos infantis e quebra-cabeças triviais, onde cada evento era completamente independente. \n",
    "\n",
    "Ele pensava que eventos interdependentes no mundo real, como ações humanas, não se conformavam a padrões ou distribuições matemáticas legais."
   ]
  },
  {
   "cell_type": "markdown",
   "metadata": {
    "slideshow": {
     "slide_type": "subslide"
    }
   },
   "source": [
    "Andrey Markov, para quem as cadeias de Markov são chamadas, procurou provar que eventos não independentes também podem obedecer a padrões. \n",
    "\n",
    "Um de seus exemplos mais conhecidos exigiu a contagem de milhares de pares de dois caracteres de uma obra de poesia russa. \n",
    "\n",
    "Usando esses pares, ele calculou a probabilidade condicional de cada personagem. Ou seja, dada uma certa letra anterior ou espaço em branco, havia uma certa chance de que a próxima letra fosse um A, ou um T, ou um espaço em branco. Usando essas probabilidades, Markov foi capaz de simular uma sequência arbitrariamente longa de caracteres. Esta era uma cadeia de Markov. \n",
    "\n",
    "Embora os primeiros caracteres sejam amplamente determinados pela escolha do personagem inicial, Markov mostrou que, no longo prazo, a distribuição dos personagens se estabeleceu em um padrão. Assim, mesmo os eventos interdependentes, se estiverem sujeitos a probabilidades fixas, obedecem a uma média."
   ]
  },
  {
   "cell_type": "markdown",
   "metadata": {
    "slideshow": {
     "slide_type": "slide"
    }
   },
   "source": [
    "Para um exemplo mais útil, imagine que você mora em uma casa com cinco quartos. Você tem um quarto, banheiro, sala de estar, sala de jantar e cozinha. \n",
    "\n",
    "Vamos coletar alguns dados, supondo que em qual sala você está em um determinado momento é tudo o que precisamos para dizer em qual sala você provavelmente entrará em seguida. \n",
    "\n",
    "Por exemplo, se você está na cozinha, você tem 30% de chance de ficar na cozinha, 30% de chance de ir para a sala de jantar, 20% de chance de ir para a sala de estar, 10% de chance de ir no banheiro, e 10% de chance de entrar no quarto. \n",
    "\n",
    "Usando um conjunto de probabilidades para cada cômodo, podemos construir uma cadeia de previsões de quais cômodos você provavelmente ocupará em seguida."
   ]
  },
  {
   "cell_type": "markdown",
   "metadata": {
    "slideshow": {
     "slide_type": "subslide"
    }
   },
   "source": [
    "Executar a cadeia de Markov para milhares de iterações, no entanto, dá uma previsão de longo prazo de qual sala você provavelmente estará.\n",
    "\n",
    "Mais importante ainda, essa previsão não é afetada em nada pela sala em que a pessoa começou! Intuitivamente, isso faz sentido: não importa onde alguém está na casa em um determinado momento, a fim de simular e descrever onde eles provavelmente estarão a longo prazo ou em geral.\n",
    "\n",
    "Assim, as cadeias de Markov, que parecem uma forma irracional de modelar uma variável aleatória em alguns períodos, podem ser usadas para calcular a tendência de longo prazo dessa variável se entendermos as probabilidades que governam seu comportamento."
   ]
  },
  {
   "cell_type": "markdown",
   "metadata": {
    "slideshow": {
     "slide_type": "slide"
    }
   },
   "source": [
    "## Métodos MCMC\n",
    "***"
   ]
  },
  {
   "cell_type": "markdown",
   "metadata": {
    "slideshow": {
     "slide_type": "subslide"
    }
   },
   "source": [
    "Com algum conhecimento de simulações de Monte Carlo e cadeias de Markov, espero que a explicação sem matemática de como os métodos MCMC funcionam seja bastante intuitiva.\n",
    "\n",
    "Lembre-se de que estamos tentando estimar a distribuição posterior para o parâmetro no qual estamos interessados, altura humana média:"
   ]
  },
  {
   "cell_type": "markdown",
   "metadata": {
    "slideshow": {
     "slide_type": "subslide"
    }
   },
   "source": [
    "![Imagem](https://miro.medium.com/max/875/0*XeUN0u_-EPh6MMCV.)"
   ]
  },
  {
   "cell_type": "markdown",
   "metadata": {
    "slideshow": {
     "slide_type": "subslide"
    }
   },
   "source": [
    "Sabemos que a distribuição posterior está em algum lugar no intervalo de nossa distribuição anterior e nossa distribuição de probabilidade, mas por qualquer motivo, não podemos computá-la diretamente.\n",
    "\n",
    "Usando métodos MCMC, iremos efetivamente extrair amostras da distribuição posterior e, em seguida, calcular estatísticas como a média nas amostras extraídas."
   ]
  },
  {
   "cell_type": "markdown",
   "metadata": {
    "slideshow": {
     "slide_type": "subslide"
    }
   },
   "source": [
    "Para começar, os métodos MCMC escolhem um valor de parâmetro aleatório a ser considerado.\n",
    "\n",
    "A simulação continuará a gerar valores aleatórios (esta é a parte de Monte Carlo), mas sujeita a alguma regra para determinar o que constitui um bom valor de parâmetro.\n",
    "\n",
    "O truque é que, para um par de valores de parâmetro, é possível calcular qual é o melhor valor de parâmetro, computando a probabilidade de cada valor explicar os dados, dadas nossas crenças anteriores.\n",
    "\n",
    "Se um valor de parâmetro gerado aleatoriamente é melhor que o último, ele é adicionado à cadeia de valores de parâmetro com uma certa probabilidade determinada por quão melhor é (esta é a parte da cadeia de Markov)."
   ]
  },
  {
   "cell_type": "markdown",
   "metadata": {},
   "source": [
    "Para explicar isso visualmente, vamos lembrar que a altura de uma distribuição em um determinado valor representa a probabilidade de observar esse valor.\n",
    "\n",
    "Portanto, podemos pensar em nossos valores de parâmetro (o eixo x) exibindo áreas de alta e baixa probabilidade, mostradas no eixo y.\n",
    "\n",
    "Para um único parâmetro, os métodos MCMC começam por amostragem aleatória ao longo do eixo x:"
   ]
  },
  {
   "cell_type": "markdown",
   "metadata": {},
   "source": [
    "![Imagem](https://miro.medium.com/max/875/0*fqwsnMwAXnAdWxDH.)"
   ]
  },
  {
   "cell_type": "markdown",
   "metadata": {},
   "source": [
    "Uma vez que as amostras aleatórias estão sujeitas a probabilidades fixas, elas tendem a convergir após um período de tempo na região de maior probabilidade para o parâmetro em que estamos interessados:"
   ]
  },
  {
   "cell_type": "markdown",
   "metadata": {},
   "source": [
    "![Imagem](https://miro.medium.com/max/875/0*aYE_6eWzDWfVCOsQ.)"
   ]
  },
  {
   "cell_type": "markdown",
   "metadata": {},
   "source": [
    "Uma vez que as amostras aleatórias estão sujeitas a probabilidades fixas, elas tendem a convergir após um período de tempo na região de maior probabilidade para o parâmetro em que estamos interessados:\n",
    "\n",
    "Após a convergência ter ocorrido, a amostragem MCMC produz um conjunto de pontos que são amostras da distribuição posterior.\n",
    "\n",
    "Desenhe um histograma em torno desses pontos e calcule as estatísticas que desejar:"
   ]
  },
  {
   "cell_type": "markdown",
   "metadata": {},
   "source": [
    "![Imagem](https://miro.medium.com/max/875/0*fMEvHsN-xlVzLw1H.)"
   ]
  },
  {
   "cell_type": "markdown",
   "metadata": {},
   "source": [
    "Qualquer estatística calculada no conjunto de amostras geradas pelas simulações MCMC é nossa melhor estimativa dessa estatística na distribuição posterior verdadeira."
   ]
  },
  {
   "cell_type": "markdown",
   "metadata": {},
   "source": [
    "Os métodos MCMC também podem ser usados para estimar a distribuição posterior de mais de um parâmetro (altura e peso humano, digamos).\n",
    "\n",
    "Para n parâmetros, existem regiões de alta probabilidade no espaço n-dimensional onde certos conjuntos de valores de parâmetros explicam melhor os dados observados.\n",
    "\n",
    "Portanto, penso nos métodos MCMC como uma amostragem aleatória dentro de um espaço probabilístico para aproximar a distribuição posterior."
   ]
  },
  {
   "cell_type": "markdown",
   "metadata": {},
   "source": [
    "Lembre-se da curta resposta à pergunta \"quais são os métodos de Monte Carlo da cadeia de Markov?\" Aqui está novamente como um TL; DR:"
   ]
  },
  {
   "cell_type": "markdown",
   "metadata": {},
   "source": [
    "> Métodos MCMC são usados para aproximar a distribuição posterior de um parâmetro de interesse por amostragem aleatória em um espaço probabilístico."
   ]
  },
  {
   "cell_type": "markdown",
   "metadata": {},
   "source": [
    "Espero ter explicado essa resposta curta, por que você usaria métodos MCMC e como eles funcionam.\n",
    "\n",
    "A inspiração para este post foi uma palestra que dei como parte do curso de imersão em ciência de dados da Assembleia Geral em Washington, DC.\n",
    "\n",
    "  O objetivo dessa palestra era explicar os métodos de Monte Carlo da cadeia de Markov para um público não técnico, e tentei fazer o mesmo aqui.\n",
    "\n",
    "Deixe um comentário se você acha que esta explicação está errada de alguma forma, ou se ela poderia ser mais intuitiva."
   ]
  },
  {
   "cell_type": "markdown",
   "metadata": {},
   "source": [
    "# Introdução às Cadeias de Markov\n",
    "O que são cadeias de Markov, quando usá-las e como funcionam"
   ]
  },
  {
   "cell_type": "markdown",
   "metadata": {},
   "source": [
    "![Imagem](https://miro.medium.com/max/645/1*jcbUF7dAhAIRS8nfUlNtow.gif)"
   ]
  },
  {
   "cell_type": "markdown",
   "metadata": {},
   "source": [
    "As cadeias de IMarkov são uma forma bastante comum e relativamente simples de modelar estatisticamente processos aleatórios.\n",
    "\n",
    "Eles têm sido usados em muitos domínios diferentes, desde a geração de texto até a modelagem financeira.\n",
    "\n",
    "Um exemplo popular é [r/SubredditSimulator](https://www.reddit.com/r/SubredditSimulator/), que usa cadeias de Markov para automatizar a criação de conteúdo para um subreddit inteiro.\n",
    "\n",
    "No geral, as Cadeias de Markov são conceitualmente bastante intuitivas e muito acessíveis, pois podem ser implementadas sem o uso de quaisquer conceitos estatísticos ou matemáticos avançados.\n",
    "\n",
    "Eles são uma ótima maneira de começar a aprender sobre modelagem probabilística e técnicas de ciência de dados."
   ]
  },
  {
   "cell_type": "markdown",
   "metadata": {},
   "source": [
    "## Cenário\n",
    "Para começar, vou descrevê-los com um exemplo muito comum:\n",
    "\n",
    "Imagine que existissem dois estados possíveis para o tempo: ensolarado ou nublado.\n",
    "\n",
    "Você sempre pode observar diretamente o estado do tempo atual, e é garantido que sempre será um dos dois estados acima mencionados.\n",
    "\n",
    "Agora, você decide que deseja prever como estará o tempo amanhã.\n",
    "\n",
    "Intuitivamente, você assume que há uma transição inerente neste processo, em que o clima atual tem alguma influência sobre o que será o clima do dia seguinte.\n",
    "\n",
    "Portanto, sendo a pessoa dedicada que é, você coleta dados meteorológicos ao longo de vários anos e calcula que a chance de um dia ensolarado ocorrer após um dia nublado é de 0,25.\n",
    "\n",
    "Você também notou que, por extensão, a chance de um dia nublado ocorrer após um dia nublado deve ser de 0,75, uma vez que existem apenas dois estados possíveis.\n",
    "\n",
    "Agora você pode usar esta distribuição para prever o tempo nos próximos dias, com base no estado do tempo atual no momento."
   ]
  },
  {
   "cell_type": "markdown",
   "metadata": {},
   "source": [
    "Este exemplo ilustra muitos dos principais conceitos de uma cadeia de Markov.\n",
    "\n",
    "**Uma cadeia de Markov consiste essencialmente em um conjunto de transições, que são determinadas por alguma distribuição de probabilidade, que satisfazem a propriedade de Markov.**"
   ]
  },
  {
   "cell_type": "markdown",
   "metadata": {},
   "source": [
    "Observe como no exemplo, a distribuição de probabilidade é obtida apenas observando as transições do dia atual para o próximo.\n",
    "\n",
    "Isso ilustra a propriedade de Markov, a característica única dos processos de Markov que os torna sem memória.\n",
    "\n",
    "Isso normalmente os deixa incapazes de produzir sequências nas quais alguma tendência subjacente seria esperada.\n",
    "\n",
    "Por exemplo, embora uma cadeia de Markov possa ser capaz de imitar o estilo de escrita de um autor com base na frequência das palavras, ela seria incapaz de produzir um texto que contivesse um significado profundo ou temático, uma vez que são desenvolvidos em sequências de texto muito mais longas.\n",
    "\n",
    "Eles, portanto, não têm a capacidade de produzir conteúdo dependente do contexto, uma vez que não podem levar em conta a cadeia completa de estados anteriores."
   ]
  },
  {
   "cell_type": "markdown",
   "metadata": {},
   "source": [
    "![Imagem](https://miro.medium.com/max/520/1*frksGjINf5oTjx7WL81U3w.png)"
   ]
  },
  {
   "cell_type": "markdown",
   "metadata": {},
   "source": [
    "## O modelo\n",
    "Formalmente, uma cadeia de Markov é um autômato probabilístico.\n",
    "\n",
    "A distribuição de probabilidade de transições de estado é normalmente representada como a matriz de transição da cadeia de Markov.\n",
    "\n",
    "Se a cadeia de Markov tiver N estados possíveis, a matriz será uma matriz N x N, de modo que a entrada (I, J) é a probabilidade de transição do estado I para o estado J.\n",
    "\n",
    "Além disso, a matriz de transição deve ser uma matriz estocástica, uma matriz cujas entradas em cada linha devem somar exatamente 1.\n",
    "\n",
    "Isso faz todo o sentido, pois cada linha representa sua própria distribuição de probabilidade."
   ]
  },
  {
   "cell_type": "markdown",
   "metadata": {},
   "source": [
    "![Imagem](https://miro.medium.com/max/500/1*oqBd8eLkXyU-h0AhV-m73w.png)"
   ]
  },
  {
   "cell_type": "markdown",
   "metadata": {},
   "source": [
    "<c> Visão geral de uma amostra de cadeia de Markov, com estados como círculos e bordas como transições"
   ]
  },
  {
   "cell_type": "markdown",
   "metadata": {},
   "source": [
    "![Matriz](https://miro.medium.com/max/286/1*laZ0aaq84xGcWZ9d9Ux0Wg.png)"
   ]
  },
  {
   "cell_type": "markdown",
   "metadata": {},
   "source": [
    "Matriz de transição de amostra com 3 estados possíveis"
   ]
  },
  {
   "cell_type": "markdown",
   "metadata": {},
   "source": [
    "Além disso, uma cadeia de Markov também possui um vetor de estado inicial, representado como uma matriz N x 1 (um vetor), que descreve a distribuição de probabilidade de início em cada um dos N estados possíveis. \n",
    "\n",
    "A entrada I do vetor descreve a probabilidade de a cadeia começar no estado I."
   ]
  },
  {
   "cell_type": "markdown",
   "metadata": {},
   "source": [
    "![Matriz](https://miro.medium.com/max/111/1*y8ZkBHQm4D9rF3Bl-ok9_w.gif)"
   ]
  },
  {
   "cell_type": "markdown",
   "metadata": {},
   "source": [
    "Vetor de estado inicial com 4 estados possíveis<-"
   ]
  },
  {
   "cell_type": "code",
   "execution_count": null,
   "metadata": {},
   "outputs": [],
   "source": []
  }
 ],
 "metadata": {
  "celltoolbar": "Slideshow",
  "kernelspec": {
   "display_name": "Python 3",
   "language": "python",
   "name": "python3"
  },
  "language_info": {
   "codemirror_mode": {
    "name": "ipython",
    "version": 3
   },
   "file_extension": ".py",
   "mimetype": "text/x-python",
   "name": "python",
   "nbconvert_exporter": "python",
   "pygments_lexer": "ipython3",
   "version": "3.6.12"
  }
 },
 "nbformat": 4,
 "nbformat_minor": 4
}
