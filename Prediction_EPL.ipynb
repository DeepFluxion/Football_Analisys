{
 "cells": [
  {
   "cell_type": "markdown",
   "metadata": {
    "slideshow": {
     "slide_type": "slide"
    }
   },
   "source": [
    "## Previsão da classificação da Premier League usando distribuição de Poisson\n",
    "\n",
    "A distribuição de Poisson é usada para a distribuição de probabilidade de marcar gols.\n",
    "Este modelo é então aplicado para simular partidas da liga e prever os pontos marcados por cada equipe para construir a classificação final da liga.Artigo Original de Apaar Gupta publicado em jan 2019 [Aqui](https://towardsdatascience.com/predicting-premier-league-standings-putting-that-math-to-some-use-e8de64938d7)\n",
    "\n",
    "![Foto 1](https://miro.medium.com/max/875/1*lG1RjzIluQnCrsMRWlQaCw.jpeg)"
   ]
  },
  {
   "cell_type": "code",
   "execution_count": 19,
   "metadata": {
    "slideshow": {
     "slide_type": "slide"
    }
   },
   "outputs": [],
   "source": [
    "# Import libraries\n",
    "\n",
    "import pandas as pd\n",
    "import numpy as np\n",
    "import seaborn as sns\n",
    "from scipy.stats import poisson \n",
    "\n",
    "from IPython.core.interactiveshell import InteractiveShell\n",
    "InteractiveShell.ast_node_interactivity = \"all\""
   ]
  },
  {
   "cell_type": "markdown",
   "metadata": {
    "slideshow": {
     "slide_type": "slide"
    }
   },
   "source": [
    "Recentemente me deparei com uma tarefa de problema interessante, cortesia do desafio final de uma caça à cripta online baseada em matemática e outros temas divertidos (matemática e diversão geralmente não combinam: P), e minha tentativa de uma solução reunida em um curto período de tempo não foi tão ruim. Neste artigo, tento descrever a abordagem de solução que usei e discutir algumas melhorias possíveis.\n",
    "\n",
    "A tarefa do problema em palavras simples era:\n",
    "\n",
    "> **Preveja a classificação final do Manchester United F.C. na tabela de pontos da atual temporada (18-19) da Premier League inglesa**"
   ]
  },
  {
   "cell_type": "markdown",
   "metadata": {
    "slideshow": {
     "slide_type": "slide"
    }
   },
   "source": [
    "\n",
    "Alguns antecedentes\n",
    "---\n",
    "***\n",
    "A Premier League é o nível mais alto do sistema da liga inglesa de futebol e é a liga esportiva mais assistida do mundo, com uma audiência potencial de TV de 4,7 bilhões de pessoas (sim, é tão popular!).   \n",
    "Vinte clubes competem ao longo de uma temporada, com cada clube jogando contra os outros duas vezes (um sistema de rodízio duplo), uma vez em seu estádio e uma vez fora, no estádio de seus adversários em um total de 38 jogos por equipe.  \n",
    "O Manchester United, o clube de futebol com sede em Old Trafford, é o clube de maior sucesso, com um recorde de 20 títulos da liga e um dos clubes de futebol mais amplamente apoiados no mundo.   \n",
    "Mais tarde, no entanto, o clube tem sofrido com uma mistura de problemas de gestão e de investimento, já se passaram (quase) seis anos desde a última vez que conquistou o prestigioso título.\n",
    "\n"
   ]
  },
  {
   "cell_type": "markdown",
   "metadata": {
    "slideshow": {
     "slide_type": "subslide"
    }
   },
   "source": [
    "> Eu sou um fã casual quando se trata de futebol, mas a ideia de construir um modelo matemático que pode ser aplicado a um problema do mundo real parecia excitante o suficiente para tentar. (Vamos começar então, vamos?⚽️)\n",
    "\n",
    "![Figura](https://miro.medium.com/max/590/1*c1RSNRLX2XFaCI4Z_x7Kmw.jpeg)"
   ]
  },
  {
   "cell_type": "markdown",
   "metadata": {
    "slideshow": {
     "slide_type": "slide"
    }
   },
   "source": [
    "Resolvendo o problema\n",
    "---\n",
    "***\n",
    "A classificação na tabela de classificação é determinada principalmente pela contagem de pontos para cada equipe, com os empates divididos por saldo de gols.   \n",
    "\n",
    "Para prever a classificação final do Man United, foi, portanto, necessário estimar o total de pontos para todas as equipes. O problema é então reduzido a prever o resultado para todos os jogos da partida.   \n",
    "\n",
    "Por razões de simplicidade, pode-se supor que cada um dos resultados da correspondência é independente um do outro, ou seja, o resultado de qualquer correspondência X é independente de qualquer outra correspondência Y.  \n",
    "\n",
    "Uma partida entre duas equipes pode terminar em 3 resultados possíveis: Vitória da equipe da casa (H), Vitória da equipe fora (A) ou Empate (T). As equipes recebem 3 pontos por vitória e 1 ponto por empate.  \n",
    "\n",
    "Podemos escolher resultados aleatoriamente, mas esse não é um bom modelo para ajustar o cenário do mundo real.  \n",
    "\n",
    "Praticamente, um time de primeira linha tem uma chance melhor de vencer contra um time de baixo escalão e mais fraco. Portanto, alguns parâmetros são necessários para medir a força da equipe"
   ]
  },
  {
   "cell_type": "markdown",
   "metadata": {
    "slideshow": {
     "slide_type": "slide"
    }
   },
   "source": [
    "Obtenção de dados e escolha de parâmetros\n",
    "---\n",
    "***\n",
    "Que melhor maneira de medir o desempenho de uma equipe do que olhar seus dados anteriores. Usei os conjuntos de dados disponíveis em [http://www.football-data.co.uk/data], que consistem em todos os resultados das partidas desde a formação da Premier League em 92, compilados ordenadamente em arquivos CSV. \n",
    "\n",
    "A próxima etapa foi determinar os fatores dominantes que se correlacionam bem com a força da equipe. Tenho que mencionar esta [excelente postagem](https://theartandscienceofdata.wordpress.com/2016/09/17/predicting-the-english-premier-league-standings/) no blog que forneceu alguns ótimos insights sobre a compreensão das variáveis, junto com visualizações muito legais. Os seguintes pontos podem ser concluídos:\n"
   ]
  },
  {
   "cell_type": "code",
   "execution_count": 2,
   "metadata": {
    "slideshow": {
     "slide_type": "slide"
    }
   },
   "outputs": [],
   "source": [
    "# Fetch Dataset : Premier League Data since Season 2005-06\n",
    "dfList = []\n",
    "for i in range(5, 19):\n",
    "    df = pd.read_csv(\"http://www.football-data.co.uk/mmz4281/{0:02d}{1:02d}/E0.csv\".format(i,i+1))\n",
    "    df = df[['HomeTeam','AwayTeam','FTHG','FTAG']]\n",
    "    df = df.rename(columns={'FTHG': 'HomeGoals', 'FTAG': 'AwayGoals'})\n",
    "    dfList.append(df)\n",
    "    \n",
    "eplData = dfList[0].append(dfList[1:])\n",
    "\n",
    "# Fetch current standings (as of 29-01-2019)\n",
    "eplPointsTable = pd.read_excel('PointsTable.xlsx')[['Team', 'Points']]\n",
    "eplPointsTable.index = np.arange(1, len(eplPointsTable) + 1)\n",
    "\n",
    "# Fetch upcoming match fixures\n",
    "eplMatchesLeft = pd.read_excel('MatchesLeft.xlsx')"
   ]
  },
  {
   "cell_type": "markdown",
   "metadata": {
    "slideshow": {
     "slide_type": "slide"
    }
   },
   "source": [
    ">1. Fatores como número de excanteios, faltas, cartões vermelhos e amarelos têm uma relação fraca com a contagem de pontos e, portanto, com a força da equipe.   \n",
    ">2. O fator mais significativo com a correlação positiva mais alta é a diferença de gols, que basicamente se traduz no equilíbrio entre a força de ataque e defesa de uma equipe.   \n",
    ">3. Curiosamente, o número de tiros acaba sendo inversamente correlacionado! Isso significa que quanto mais o número de chutes de uma equipe, menos pontos ela terá probabilidade de atingir 😮.    \n",
    ">4. Embora pareça desafiar a lógica no início, em retrospectiva, cada tentativa de chute que não se transforma em um gol invariavelmente devolve a posse para o time adversário e dá a eles a vantagem, daí a correlação negativa.  "
   ]
  },
  {
   "cell_type": "markdown",
   "metadata": {
    "slideshow": {
     "slide_type": "slide"
    }
   },
   "source": [
    "Seguindo um modelo simples, decidi então usar como parâmetro a contagem de gols em tempo integral da equipe da casa e visitante."
   ]
  },
  {
   "cell_type": "markdown",
   "metadata": {
    "slideshow": {
     "slide_type": "slide"
    }
   },
   "source": [
    "Usando a matemática\n",
    "---\n",
    "***\n",
    "Na verdade, o resultado da partida é baseado no número de gols marcados em cada lado. Portanto, precisamos modelar a distribuição de probabilidade dos gols marcados. Um dos métodos mais comuns para fazer isso é por meio da distribuição de Poisson. (Fonte)   \n"
   ]
  },
  {
   "cell_type": "markdown",
   "metadata": {
    "slideshow": {
     "slide_type": "subslide"
    }
   },
   "source": [
    "> **A distribuição de Poisson mede a probabilidade de um determinado número de eventos ocorrerem em um intervalo fixo de tempo se esses eventos ocorrerem com uma taxa constante conhecida e independentemente do tempo desde o último evento.***\n",
    "\n"
   ]
  },
  {
   "cell_type": "markdown",
   "metadata": {
    "slideshow": {
     "slide_type": "subslide"
    }
   },
   "source": [
    "![Poisson](https://miro.medium.com/max/279/1*K7jb9jIysxBGvLPIiCU6mw.jpeg)\n",
    "\n",
    "![Poisson_Image](https://upload.wikimedia.org/wikipedia/commons/thumb/c/c1/Poisson_distribution_PMF.png/1200px-Poisson_distribution_PMF.png)"
   ]
  },
  {
   "cell_type": "markdown",
   "metadata": {
    "slideshow": {
     "slide_type": "subslide"
    }
   },
   "source": [
    "Para entender por que esse modelo se encaixa em nosso caso, podemos considerar um gol marcado como um evento. Então, dentro do intervalo de 90 minutos de jogo, cada evento pode ocorrer qualquer número de vezes de forma independente.\n",
    "\n",
    "Para dar um exemplo, vamos tentar prever a probabilidade de que uma partida entre Arsenal e Leicester City termine com o placar de 2–1."
   ]
  },
  {
   "cell_type": "markdown",
   "metadata": {
    "slideshow": {
     "slide_type": "slide"
    }
   },
   "source": [
    "Digamos que os seguintes números sejam obtidos:\n",
    "\n",
    "Número médio de gols marcados pelo Arsenal = 1,842\n",
    "\n",
    "Número médio de gols marcados por Leicester City = 1.500\n",
    "\n",
    "Então,\n",
    "\n",
    ">A) Probabilidade de o Arsenal marcar 2 gols = P (X = 2, $\\lambda$ = 1,842) = 27,8%  \n",
    ">B) Probabilidade de Leicester marcar 1 gol = P (X = 1, $\\lambda$ = 1,5) = 33,4%\n",
    "\n",
    "Portanto, probabilidade da linha de pontuação 2-1 = (A) * (B) = 9,2%"
   ]
  },
  {
   "cell_type": "markdown",
   "metadata": {
    "slideshow": {
     "slide_type": "slide"
    }
   },
   "source": [
    "O que resta então é descobrir a taxa constante ($\\lambda$):  \n",
    "\n",
    "Pode-se perceber intuitivamente que este parâmetro reflete o desempenho de uma equipe, sendo que a melhor equipe tem um índice de gols em média maior. \n",
    "\n",
    "Além disso, esta taxa dependeria tanto da força de ataque da equipe quanto da força defensiva do adversário. \n",
    "\n",
    "Por fim, também temos que levar em consideração o fator casa, ou seja, levar em consideração que uma equipe geralmente joga melhor em casa.  \n",
    "\n",
    "Com base na discussão acima, podemos definir o parâmetro $\\lambda$ como o número médio de gols marcados por uma equipe em um determinado local, que pode ser calculado usando os dados anteriores."
   ]
  },
  {
   "cell_type": "code",
   "execution_count": 23,
   "metadata": {
    "slideshow": {
     "slide_type": "slide"
    }
   },
   "outputs": [
    {
     "data": {
      "text/plain": [
       "<matplotlib.axes._subplots.AxesSubplot at 0x26432261188>"
      ]
     },
     "execution_count": 23,
     "metadata": {},
     "output_type": "execute_result"
    },
    {
     "data": {
      "text/plain": [
       "<matplotlib.axes._subplots.AxesSubplot at 0x26432261188>"
      ]
     },
     "execution_count": 23,
     "metadata": {},
     "output_type": "execute_result"
    },
    {
     "data": {
      "image/png": "[encoded data removed]",
      "text/plain": [
       "<Figure size 432x288 with 1 Axes>"
      ]
     },
     "metadata": {
      "needs_background": "light"
     },
     "output_type": "display_data"
    }
   ],
   "source": [
    "\n",
    "import seaborn as sns\n",
    "\n",
    "sns.distplot(np.random.poisson(lam=10, size=1000), hist=False, label='$\\lambda$ = 10');\n",
    "sns.distplot(np.random.poisson(lam=50, size=1000), hist=False, label='$\\lambda$ = 50');\n",
    "\n",
    "plt.show()"
   ]
  },
  {
   "cell_type": "markdown",
   "metadata": {
    "slideshow": {
     "slide_type": "slide"
    }
   },
   "source": [
    "Construindo o modelo\n",
    "---\n",
    "***\n",
    "Vamos construir algumas estatísticas então:"
   ]
  },
  {
   "cell_type": "markdown",
   "metadata": {
    "slideshow": {
     "slide_type": "subslide"
    }
   },
   "source": [
    "### Para cada equipe, podemos calcular:\n",
    "***\n",
    ">a) Gols Marcados Home = número médio de gols marcados em jogos em casa\n",
    "\n",
    ">b) Gols Concedidos Home = Número médio de gols sofridos em jogos em casa\n",
    "\n",
    ">c) Gols Away marcados = número médio de gols marcados em partidas fora\n",
    "\n",
    ">d) Gols Away Concedido = Número médio de gols sofridos em partidas Fora"
   ]
  },
  {
   "cell_type": "markdown",
   "metadata": {
    "slideshow": {
     "slide_type": "subslide"
    }
   },
   "source": [
    "### A seguir calculamos os mesmos resultados, mas para toda a liga: e) Pontuação da Liga Home\n",
    "\n",
    ">f) Liga em casa concedida \n",
    "\n",
    ">g) Liga fora marcada \n",
    "\n",
    ">h) Liga fora concedida\n"
   ]
  },
  {
   "cell_type": "markdown",
   "metadata": {
    "slideshow": {
     "slide_type": "subslide"
    }
   },
   "source": [
    "### Usando acima, podemos atribuir parâmetros normalizados a cada equipe: \n",
    "\n",
    ">i)Força do Ataque Home = (a)/(e) \n",
    "\n",
    ">j) Força do Home Defense = (b)/(f) \n",
    "\n",
    ">k) Força de ataque Away = (c)/(g) \n",
    "\n",
    ">l) Força de defesa fora = (d)/(h)\n",
    "\n"
   ]
  },
  {
   "cell_type": "markdown",
   "metadata": {
    "slideshow": {
     "slide_type": "subslide"
    }
   },
   "source": [
    "### Finalmente, calculamos os multiplicadores:\n",
    "\n",
    ">n) Gols totais marcados em casa = (e+h)/2 \n",
    "\n",
    ">p) Gols gerais marcados fora = (f+g)/2"
   ]
  },
  {
   "cell_type": "markdown",
   "metadata": {
    "slideshow": {
     "slide_type": "subslide"
    }
   },
   "source": [
    "Usando as estatísticas acima, podemos agora formular o parâmetro $\\lambda$ da seguinte forma:"
   ]
  },
  {
   "cell_type": "markdown",
   "metadata": {
    "slideshow": {
     "slide_type": "subslide"
    }
   },
   "source": [
    "Para uma partida entre a equipe da casa (H) e a equipe visitante (A):\n",
    "\n",
    "> **λ (H) = Ataque em casa (H) * Defesa fora de casa (A) * Pontuação em casa geral (n)**\n",
    "\n",
    "> **λ (A) = Ataque fora (A) * Defesa em casa (H) * Pontuação geral fora (p)**"
   ]
  },
  {
   "cell_type": "code",
   "execution_count": 24,
   "metadata": {},
   "outputs": [
    {
     "data": {
      "text/plain": [
       "'PAST MATCH DATA: 5321 rows'"
      ]
     },
     "execution_count": 24,
     "metadata": {},
     "output_type": "execute_result"
    },
    {
     "data": {
      "text/html": [
       "<div>\n",
       "<style scoped>\n",
       "    .dataframe tbody tr th:only-of-type {\n",
       "        vertical-align: middle;\n",
       "    }\n",
       "\n",
       "    .dataframe tbody tr th {\n",
       "        vertical-align: top;\n",
       "    }\n",
       "\n",
       "    .dataframe thead th {\n",
       "        text-align: right;\n",
       "    }\n",
       "</style>\n",
       "<table border=\"1\" class=\"dataframe\">\n",
       "  <thead>\n",
       "    <tr style=\"text-align: right;\">\n",
       "      <th></th>\n",
       "      <th>HomeTeam</th>\n",
       "      <th>AwayTeam</th>\n",
       "      <th>HomeGoals</th>\n",
       "      <th>AwayGoals</th>\n",
       "    </tr>\n",
       "  </thead>\n",
       "  <tbody>\n",
       "    <tr>\n",
       "      <th>0</th>\n",
       "      <td>Aston Villa</td>\n",
       "      <td>Bolton</td>\n",
       "      <td>2.0</td>\n",
       "      <td>2.0</td>\n",
       "    </tr>\n",
       "    <tr>\n",
       "      <th>1</th>\n",
       "      <td>Everton</td>\n",
       "      <td>Man United</td>\n",
       "      <td>0.0</td>\n",
       "      <td>2.0</td>\n",
       "    </tr>\n",
       "    <tr>\n",
       "      <th>2</th>\n",
       "      <td>Fulham</td>\n",
       "      <td>Birmingham</td>\n",
       "      <td>0.0</td>\n",
       "      <td>0.0</td>\n",
       "    </tr>\n",
       "    <tr>\n",
       "      <th>3</th>\n",
       "      <td>Man City</td>\n",
       "      <td>West Brom</td>\n",
       "      <td>0.0</td>\n",
       "      <td>0.0</td>\n",
       "    </tr>\n",
       "    <tr>\n",
       "      <th>4</th>\n",
       "      <td>Middlesbrough</td>\n",
       "      <td>Liverpool</td>\n",
       "      <td>0.0</td>\n",
       "      <td>0.0</td>\n",
       "    </tr>\n",
       "  </tbody>\n",
       "</table>\n",
       "</div>"
      ],
      "text/plain": [
       "        HomeTeam    AwayTeam  HomeGoals  AwayGoals\n",
       "0    Aston Villa      Bolton        2.0        2.0\n",
       "1        Everton  Man United        0.0        2.0\n",
       "2         Fulham  Birmingham        0.0        0.0\n",
       "3       Man City   West Brom        0.0        0.0\n",
       "4  Middlesbrough   Liverpool        0.0        0.0"
      ]
     },
     "execution_count": 24,
     "metadata": {},
     "output_type": "execute_result"
    },
    {
     "data": {
      "text/plain": [
       "'CURRENT POINTS TABLE'"
      ]
     },
     "execution_count": 24,
     "metadata": {},
     "output_type": "execute_result"
    },
    {
     "data": {
      "text/html": [
       "<div>\n",
       "<style scoped>\n",
       "    .dataframe tbody tr th:only-of-type {\n",
       "        vertical-align: middle;\n",
       "    }\n",
       "\n",
       "    .dataframe tbody tr th {\n",
       "        vertical-align: top;\n",
       "    }\n",
       "\n",
       "    .dataframe thead th {\n",
       "        text-align: right;\n",
       "    }\n",
       "</style>\n",
       "<table border=\"1\" class=\"dataframe\">\n",
       "  <thead>\n",
       "    <tr style=\"text-align: right;\">\n",
       "      <th></th>\n",
       "      <th>Team</th>\n",
       "      <th>Points</th>\n",
       "    </tr>\n",
       "  </thead>\n",
       "  <tbody>\n",
       "    <tr>\n",
       "      <th>1</th>\n",
       "      <td>Liverpool</td>\n",
       "      <td>60</td>\n",
       "    </tr>\n",
       "    <tr>\n",
       "      <th>2</th>\n",
       "      <td>Man City</td>\n",
       "      <td>56</td>\n",
       "    </tr>\n",
       "    <tr>\n",
       "      <th>3</th>\n",
       "      <td>Tottenham</td>\n",
       "      <td>51</td>\n",
       "    </tr>\n",
       "    <tr>\n",
       "      <th>4</th>\n",
       "      <td>Chelsea</td>\n",
       "      <td>47</td>\n",
       "    </tr>\n",
       "    <tr>\n",
       "      <th>5</th>\n",
       "      <td>Arsenal</td>\n",
       "      <td>44</td>\n",
       "    </tr>\n",
       "    <tr>\n",
       "      <th>6</th>\n",
       "      <td>Man United</td>\n",
       "      <td>44</td>\n",
       "    </tr>\n",
       "    <tr>\n",
       "      <th>7</th>\n",
       "      <td>Watford</td>\n",
       "      <td>33</td>\n",
       "    </tr>\n",
       "    <tr>\n",
       "      <th>8</th>\n",
       "      <td>Wolves</td>\n",
       "      <td>32</td>\n",
       "    </tr>\n",
       "    <tr>\n",
       "      <th>9</th>\n",
       "      <td>Leicester</td>\n",
       "      <td>31</td>\n",
       "    </tr>\n",
       "    <tr>\n",
       "      <th>10</th>\n",
       "      <td>West Ham</td>\n",
       "      <td>31</td>\n",
       "    </tr>\n",
       "    <tr>\n",
       "      <th>11</th>\n",
       "      <td>Everton</td>\n",
       "      <td>30</td>\n",
       "    </tr>\n",
       "    <tr>\n",
       "      <th>12</th>\n",
       "      <td>Bournemouth</td>\n",
       "      <td>30</td>\n",
       "    </tr>\n",
       "    <tr>\n",
       "      <th>13</th>\n",
       "      <td>Brighton</td>\n",
       "      <td>26</td>\n",
       "    </tr>\n",
       "    <tr>\n",
       "      <th>14</th>\n",
       "      <td>Crystal Palace</td>\n",
       "      <td>22</td>\n",
       "    </tr>\n",
       "    <tr>\n",
       "      <th>15</th>\n",
       "      <td>Southampton</td>\n",
       "      <td>22</td>\n",
       "    </tr>\n",
       "    <tr>\n",
       "      <th>16</th>\n",
       "      <td>Burnley</td>\n",
       "      <td>22</td>\n",
       "    </tr>\n",
       "    <tr>\n",
       "      <th>17</th>\n",
       "      <td>Newcastle</td>\n",
       "      <td>21</td>\n",
       "    </tr>\n",
       "    <tr>\n",
       "      <th>18</th>\n",
       "      <td>Cardiff</td>\n",
       "      <td>19</td>\n",
       "    </tr>\n",
       "    <tr>\n",
       "      <th>19</th>\n",
       "      <td>Fulham</td>\n",
       "      <td>14</td>\n",
       "    </tr>\n",
       "    <tr>\n",
       "      <th>20</th>\n",
       "      <td>Huddersfield</td>\n",
       "      <td>11</td>\n",
       "    </tr>\n",
       "  </tbody>\n",
       "</table>\n",
       "</div>"
      ],
      "text/plain": [
       "              Team  Points\n",
       "1        Liverpool      60\n",
       "2         Man City      56\n",
       "3        Tottenham      51\n",
       "4          Chelsea      47\n",
       "5          Arsenal      44\n",
       "6       Man United      44\n",
       "7          Watford      33\n",
       "8           Wolves      32\n",
       "9        Leicester      31\n",
       "10        West Ham      31\n",
       "11         Everton      30\n",
       "12     Bournemouth      30\n",
       "13        Brighton      26\n",
       "14  Crystal Palace      22\n",
       "15     Southampton      22\n",
       "16         Burnley      22\n",
       "17       Newcastle      21\n",
       "18         Cardiff      19\n",
       "19          Fulham      14\n",
       "20    Huddersfield      11"
      ]
     },
     "execution_count": 24,
     "metadata": {},
     "output_type": "execute_result"
    },
    {
     "data": {
      "text/plain": [
       "'UPCOMING MATCH FIXTURES: 150 rows'"
      ]
     },
     "execution_count": 24,
     "metadata": {},
     "output_type": "execute_result"
    },
    {
     "data": {
      "text/html": [
       "<div>\n",
       "<style scoped>\n",
       "    .dataframe tbody tr th:only-of-type {\n",
       "        vertical-align: middle;\n",
       "    }\n",
       "\n",
       "    .dataframe tbody tr th {\n",
       "        vertical-align: top;\n",
       "    }\n",
       "\n",
       "    .dataframe thead th {\n",
       "        text-align: right;\n",
       "    }\n",
       "</style>\n",
       "<table border=\"1\" class=\"dataframe\">\n",
       "  <thead>\n",
       "    <tr style=\"text-align: right;\">\n",
       "      <th></th>\n",
       "      <th>HomeTeam</th>\n",
       "      <th>AwayTeam</th>\n",
       "    </tr>\n",
       "  </thead>\n",
       "  <tbody>\n",
       "    <tr>\n",
       "      <th>0</th>\n",
       "      <td>Arsenal</td>\n",
       "      <td>Cardiff</td>\n",
       "    </tr>\n",
       "    <tr>\n",
       "      <th>1</th>\n",
       "      <td>Bournemouth</td>\n",
       "      <td>Chelsea</td>\n",
       "    </tr>\n",
       "    <tr>\n",
       "      <th>2</th>\n",
       "      <td>Fulham</td>\n",
       "      <td>Brighton</td>\n",
       "    </tr>\n",
       "    <tr>\n",
       "      <th>3</th>\n",
       "      <td>Huddersfield</td>\n",
       "      <td>Everton</td>\n",
       "    </tr>\n",
       "    <tr>\n",
       "      <th>4</th>\n",
       "      <td>Wolves</td>\n",
       "      <td>West Ham</td>\n",
       "    </tr>\n",
       "  </tbody>\n",
       "</table>\n",
       "</div>"
      ],
      "text/plain": [
       "       HomeTeam  AwayTeam\n",
       "0       Arsenal   Cardiff\n",
       "1   Bournemouth   Chelsea\n",
       "2        Fulham  Brighton\n",
       "3  Huddersfield   Everton\n",
       "4        Wolves  West Ham"
      ]
     },
     "execution_count": 24,
     "metadata": {},
     "output_type": "execute_result"
    }
   ],
   "source": [
    "'PAST MATCH DATA: {} rows'.format(len(eplData))\n",
    "eplData.head()\n",
    "'CURRENT POINTS TABLE'\n",
    "eplPointsTable\n",
    "'UPCOMING MATCH FIXTURES: {} rows'.format(len(eplMatchesLeft))\n",
    "eplMatchesLeft.head()"
   ]
  },
  {
   "cell_type": "markdown",
   "metadata": {
    "slideshow": {
     "slide_type": "subslide"
    }
   },
   "source": [
    "Simulando as partidas\n",
    "Como discutido antes, uma partida entre duas equipes pode terminar em 3 resultados possíveis: \n",
    "- Vitória da equipe da casa (H), \n",
    "- Vitória da equipe fora (A) ou \n",
    "- Empate (T). \n",
    "Deixe o time da casa marcar X gols e o time visitante marcar Y gols. Então:\n",
    "\n"
   ]
  },
  {
   "cell_type": "markdown",
   "metadata": {
    "slideshow": {
     "slide_type": "subslide"
    }
   },
   "source": [
    "> A equipe da casa ganha se (X> Y)  \n",
    "> A equipe visitante vence se (X <Y)   \n",
    "> É um empate se (X = Y)"
   ]
  },
  {
   "cell_type": "markdown",
   "metadata": {
    "slideshow": {
     "slide_type": "subslide"
    }
   },
   "source": [
    "Já vimos como calcular a probabilidade de que a partida termine com a pontuação X-Y. \n",
    "\n",
    "Além disso, podemos colocar um limite superior prático para o número de gols marcados por uma equipe em, digamos, 10. \n",
    "\n",
    "Finalmente, como todas as linhas de pontuação são independentes umas das outras, as probabilidades podem ser simplesmente somadas:"
   ]
  },
  {
   "cell_type": "markdown",
   "metadata": {
    "slideshow": {
     "slide_type": "fragment"
    }
   },
   "source": [
    "Probability (H wins) = $\\Sigma P(X-Y scoreline) , X > Y$   \n",
    "\n",
    "Probability (A wins) = $\\Sigma P(X-Y scoreline) , X < Y$ \n",
    "\n",
    "Probability (Tie) = $\\Sigma P(X-Y scoreline) , X = Y$ "
   ]
  },
  {
   "cell_type": "markdown",
   "metadata": {
    "slideshow": {
     "slide_type": "fragment"
    }
   },
   "source": [
    "Assim, podemos simular um jogo entre as equipes da casa (H) e fora (A) e prever os pontos marcados pelas equipes"
   ]
  },
  {
   "cell_type": "code",
   "execution_count": 30,
   "metadata": {
    "slideshow": {
     "slide_type": "slide"
    }
   },
   "outputs": [],
   "source": [
    "# Calculate Team and League stats\n",
    "\n",
    "# For each team - Average {HomeScored, HomeConceded, AwayScored, AwayConceded} \n",
    "eplHomeTeam = eplData[['HomeTeam', 'HomeGoals', 'AwayGoals']].rename(\n",
    "    columns={'HomeTeam':'Team', 'HomeGoals':'HomeScored', 'AwayGoals':'HomeConceded'}).groupby(\n",
    "    ['Team'], as_index=False)[['HomeScored', 'HomeConceded']].mean()\n",
    "\n",
    "eplAwayTeam = eplData[['AwayTeam', 'HomeGoals', 'AwayGoals']].rename(\n",
    "    columns={'AwayTeam':'Team', 'HomeGoals':'AwayConceded', 'AwayGoals':'AwayScored'}).groupby(\n",
    "    ['Team'], as_index=False)[['AwayScored', 'AwayConceded']].mean()\n",
    "\n",
    "# Overall - Average {leagueHomeScored, leagueHomeConceded, leagueAwayScored, leagueAwayConceded}\n",
    "leagueHomeScored, leagueHomeConceded = eplHomeTeam['HomeScored'].mean(), eplHomeTeam['HomeConceded'].mean()\n",
    "leagueAwayScored, leagueAwayConceded = eplAwayTeam['AwayScored'].mean(), eplAwayTeam['AwayConceded'].mean()\n",
    "\n",
    "eplTeamStrength = pd.merge(eplHomeTeam, eplAwayTeam, on='Team')\n",
    "\n",
    "assert(leagueHomeScored != 0)\n",
    "assert(leagueHomeConceded != 0)\n",
    "assert(leagueAwayScored != 0)\n",
    "assert(leagueAwayConceded != 0)\n",
    "\n",
    "# Normalize the parameters \n",
    "# For each team - {HomeAttack, HomeDefence, AwayAttack, AwayDefense}\n",
    "eplTeamStrength['HomeScored'] /= leagueHomeScored\n",
    "eplTeamStrength['HomeConceded'] /= leagueHomeConceded\n",
    "eplTeamStrength['AwayScored'] /= leagueAwayScored\n",
    "eplTeamStrength['AwayConceded'] /= leagueAwayConceded\n",
    "\n",
    "eplTeamStrength.columns=['Team','HomeAttack','HomeDefense','AwayAttack','AwayDefense']\n",
    "eplTeamStrength.set_index('Team', inplace=True)\n",
    "\n",
    "# Overall - {overallHomeScored, overallAwayScored}\n",
    "overallHomeScored = (leagueHomeScored+leagueAwayConceded)/2\n",
    "overallAwayScored = (leagueHomeConceded+leagueAwayScored)/2"
   ]
  },
  {
   "cell_type": "code",
   "execution_count": 26,
   "metadata": {
    "slideshow": {
     "slide_type": "slide"
    }
   },
   "outputs": [
    {
     "data": {
      "text/plain": [
       "'TEAM STRENGTH: 39 rows'"
      ]
     },
     "execution_count": 26,
     "metadata": {},
     "output_type": "execute_result"
    },
    {
     "data": {
      "text/html": [
       "<div>\n",
       "<style scoped>\n",
       "    .dataframe tbody tr th:only-of-type {\n",
       "        vertical-align: middle;\n",
       "    }\n",
       "\n",
       "    .dataframe tbody tr th {\n",
       "        vertical-align: top;\n",
       "    }\n",
       "\n",
       "    .dataframe thead th {\n",
       "        text-align: right;\n",
       "    }\n",
       "</style>\n",
       "<table border=\"1\" class=\"dataframe\">\n",
       "  <thead>\n",
       "    <tr style=\"text-align: right;\">\n",
       "      <th></th>\n",
       "      <th>HomeAttack</th>\n",
       "      <th>HomeDefense</th>\n",
       "      <th>AwayAttack</th>\n",
       "      <th>AwayDefense</th>\n",
       "    </tr>\n",
       "    <tr>\n",
       "      <th>Team</th>\n",
       "      <th></th>\n",
       "      <th></th>\n",
       "      <th></th>\n",
       "      <th></th>\n",
       "    </tr>\n",
       "  </thead>\n",
       "  <tbody>\n",
       "    <tr>\n",
       "      <th>Arsenal</th>\n",
       "      <td>1.558148</td>\n",
       "      <td>0.633726</td>\n",
       "      <td>1.597895</td>\n",
       "      <td>0.778362</td>\n",
       "    </tr>\n",
       "    <tr>\n",
       "      <th>Aston Villa</th>\n",
       "      <td>0.881764</td>\n",
       "      <td>0.957320</td>\n",
       "      <td>1.117822</td>\n",
       "      <td>1.007673</td>\n",
       "    </tr>\n",
       "    <tr>\n",
       "      <th>Birmingham</th>\n",
       "      <td>0.833842</td>\n",
       "      <td>0.808445</td>\n",
       "      <td>0.800793</td>\n",
       "      <td>1.085023</td>\n",
       "    </tr>\n",
       "    <tr>\n",
       "      <th>Blackburn</th>\n",
       "      <td>1.018684</td>\n",
       "      <td>0.894324</td>\n",
       "      <td>1.048042</td>\n",
       "      <td>1.092829</td>\n",
       "    </tr>\n",
       "    <tr>\n",
       "      <th>Blackpool</th>\n",
       "      <td>1.150127</td>\n",
       "      <td>1.533973</td>\n",
       "      <td>1.291601</td>\n",
       "      <td>1.280171</td>\n",
       "    </tr>\n",
       "  </tbody>\n",
       "</table>\n",
       "</div>"
      ],
      "text/plain": [
       "             HomeAttack  HomeDefense  AwayAttack  AwayDefense\n",
       "Team                                                         \n",
       "Arsenal        1.558148     0.633726    1.597895     0.778362\n",
       "Aston Villa    0.881764     0.957320    1.117822     1.007673\n",
       "Birmingham     0.833842     0.808445    0.800793     1.085023\n",
       "Blackburn      1.018684     0.894324    1.048042     1.092829\n",
       "Blackpool      1.150127     1.533973    1.291601     1.280171"
      ]
     },
     "execution_count": 26,
     "metadata": {},
     "output_type": "execute_result"
    },
    {
     "data": {
      "text/plain": [
       "'Overall Home scored = 1.5292383167889239'"
      ]
     },
     "execution_count": 26,
     "metadata": {},
     "output_type": "execute_result"
    },
    {
     "data": {
      "text/plain": [
       "'Overall Away scored = 1.144110388037514'"
      ]
     },
     "execution_count": 26,
     "metadata": {},
     "output_type": "execute_result"
    }
   ],
   "source": [
    "'TEAM STRENGTH: {} rows'.format(len(eplTeamStrength))\n",
    "eplTeamStrength.head()\n",
    "'Overall Home scored = {}'.format(overallHomeScored)\n",
    "'Overall Away scored = {}'.format(overallAwayScored)"
   ]
  },
  {
   "cell_type": "markdown",
   "metadata": {},
   "source": [
    "Juntando tudo\n",
    "---\n",
    "***\n",
    "Para prever a classificação final, simplesmente simulamos todos os jogos da liga usando o modelo e somamos as pontuações previstas para construir a tabela de pontos."
   ]
  },
  {
   "cell_type": "code",
   "execution_count": 27,
   "metadata": {},
   "outputs": [],
   "source": [
    "# Predict outcome of match and assign points to the teams\n",
    "\n",
    "def predictMatchScore(home, away):\n",
    "    if home in eplTeamStrength.index and away in eplTeamStrength.index:\n",
    "        lambdH = eplTeamStrength.at[home,'HomeAttack'] * eplTeamStrength.at[away,'AwayDefense'] * overallHomeScored\n",
    "        lambdA = eplTeamStrength.at[away,'AwayAttack'] * eplTeamStrength.at[home,'HomeDefense'] * overallAwayScored\n",
    "        probH, probA, probT = 0, 0, 0  # Probability of Home win(H), Away win(A) or Tie(T) \n",
    "        for X in range(0,11):\n",
    "            for Y in range(0, 11):\n",
    "                p = poisson.pmf(X, lambdH) * poisson.pmf(Y, lambdA)\n",
    "                if X == Y:\n",
    "                    probT += p\n",
    "                elif X > Y:\n",
    "                    probH += p\n",
    "                else:\n",
    "                    probA += p\n",
    "        scoreH = 3 * probH + probT\n",
    "        scoreA = 3 * probA + probT\n",
    "        return (scoreH, scoreA)\n",
    "    else:\n",
    "        return (0, 0)"
   ]
  },
  {
   "cell_type": "code",
   "execution_count": 28,
   "metadata": {},
   "outputs": [],
   "source": [
    "#  Simulate the matches to predict final standings\n",
    "for index, row in eplMatchesLeft.iterrows():\n",
    "    home, away = row['HomeTeam'], row['AwayTeam']\n",
    "    assert(home in eplPointsTable.Team.values and away in eplPointsTable.Team.values)\n",
    "    sH, sA = predictMatchScore(home, away)\n",
    "    eplPointsTable.loc[eplPointsTable.Team == home, 'Points'] += sH\n",
    "    eplPointsTable.loc[eplPointsTable.Team == away, 'Points'] += sA"
   ]
  },
  {
   "cell_type": "markdown",
   "metadata": {},
   "source": [
    "O resultado final obtido:\n",
    "---\n",
    "***"
   ]
  },
  {
   "cell_type": "code",
   "execution_count": 29,
   "metadata": {},
   "outputs": [
    {
     "data": {
      "text/plain": [
       "'PREDICTED FINAL STANDINGS'"
      ]
     },
     "execution_count": 29,
     "metadata": {},
     "output_type": "execute_result"
    },
    {
     "data": {
      "text/html": [
       "<div>\n",
       "<style scoped>\n",
       "    .dataframe tbody tr th:only-of-type {\n",
       "        vertical-align: middle;\n",
       "    }\n",
       "\n",
       "    .dataframe tbody tr th {\n",
       "        vertical-align: top;\n",
       "    }\n",
       "\n",
       "    .dataframe thead th {\n",
       "        text-align: right;\n",
       "    }\n",
       "</style>\n",
       "<table border=\"1\" class=\"dataframe\">\n",
       "  <thead>\n",
       "    <tr style=\"text-align: right;\">\n",
       "      <th></th>\n",
       "      <th>Team</th>\n",
       "      <th>Points</th>\n",
       "    </tr>\n",
       "  </thead>\n",
       "  <tbody>\n",
       "    <tr>\n",
       "      <th>1</th>\n",
       "      <td>Liverpool</td>\n",
       "      <td>90.31</td>\n",
       "    </tr>\n",
       "    <tr>\n",
       "      <th>2</th>\n",
       "      <td>Man City</td>\n",
       "      <td>85.14</td>\n",
       "    </tr>\n",
       "    <tr>\n",
       "      <th>3</th>\n",
       "      <td>Chelsea</td>\n",
       "      <td>77.60</td>\n",
       "    </tr>\n",
       "    <tr>\n",
       "      <th>4</th>\n",
       "      <td>Tottenham</td>\n",
       "      <td>77.31</td>\n",
       "    </tr>\n",
       "    <tr>\n",
       "      <th>5</th>\n",
       "      <td>Man United</td>\n",
       "      <td>75.07</td>\n",
       "    </tr>\n",
       "    <tr>\n",
       "      <th>6</th>\n",
       "      <td>Arsenal</td>\n",
       "      <td>73.62</td>\n",
       "    </tr>\n",
       "    <tr>\n",
       "      <th>7</th>\n",
       "      <td>Everton</td>\n",
       "      <td>52.80</td>\n",
       "    </tr>\n",
       "    <tr>\n",
       "      <th>8</th>\n",
       "      <td>Leicester</td>\n",
       "      <td>52.16</td>\n",
       "    </tr>\n",
       "    <tr>\n",
       "      <th>9</th>\n",
       "      <td>West Ham</td>\n",
       "      <td>49.52</td>\n",
       "    </tr>\n",
       "    <tr>\n",
       "      <th>10</th>\n",
       "      <td>Wolves</td>\n",
       "      <td>48.56</td>\n",
       "    </tr>\n",
       "    <tr>\n",
       "      <th>11</th>\n",
       "      <td>Watford</td>\n",
       "      <td>48.46</td>\n",
       "    </tr>\n",
       "    <tr>\n",
       "      <th>12</th>\n",
       "      <td>Bournemouth</td>\n",
       "      <td>48.04</td>\n",
       "    </tr>\n",
       "    <tr>\n",
       "      <th>13</th>\n",
       "      <td>Southampton</td>\n",
       "      <td>44.03</td>\n",
       "    </tr>\n",
       "    <tr>\n",
       "      <th>14</th>\n",
       "      <td>Brighton</td>\n",
       "      <td>42.39</td>\n",
       "    </tr>\n",
       "    <tr>\n",
       "      <th>15</th>\n",
       "      <td>Crystal Palace</td>\n",
       "      <td>41.28</td>\n",
       "    </tr>\n",
       "    <tr>\n",
       "      <th>16</th>\n",
       "      <td>Newcastle</td>\n",
       "      <td>39.02</td>\n",
       "    </tr>\n",
       "    <tr>\n",
       "      <th>17</th>\n",
       "      <td>Burnley</td>\n",
       "      <td>36.08</td>\n",
       "    </tr>\n",
       "    <tr>\n",
       "      <th>18</th>\n",
       "      <td>Fulham</td>\n",
       "      <td>31.16</td>\n",
       "    </tr>\n",
       "    <tr>\n",
       "      <th>19</th>\n",
       "      <td>Cardiff</td>\n",
       "      <td>29.51</td>\n",
       "    </tr>\n",
       "    <tr>\n",
       "      <th>20</th>\n",
       "      <td>Huddersfield</td>\n",
       "      <td>20.26</td>\n",
       "    </tr>\n",
       "  </tbody>\n",
       "</table>\n",
       "</div>"
      ],
      "text/plain": [
       "              Team  Points\n",
       "1        Liverpool   90.31\n",
       "2         Man City   85.14\n",
       "3          Chelsea   77.60\n",
       "4        Tottenham   77.31\n",
       "5       Man United   75.07\n",
       "6          Arsenal   73.62\n",
       "7          Everton   52.80\n",
       "8        Leicester   52.16\n",
       "9         West Ham   49.52\n",
       "10          Wolves   48.56\n",
       "11         Watford   48.46\n",
       "12     Bournemouth   48.04\n",
       "13     Southampton   44.03\n",
       "14        Brighton   42.39\n",
       "15  Crystal Palace   41.28\n",
       "16       Newcastle   39.02\n",
       "17         Burnley   36.08\n",
       "18          Fulham   31.16\n",
       "19         Cardiff   29.51\n",
       "20    Huddersfield   20.26"
      ]
     },
     "execution_count": 29,
     "metadata": {},
     "output_type": "execute_result"
    }
   ],
   "source": [
    "'PREDICTED FINAL STANDINGS'\n",
    "eplPointsTable = eplPointsTable.sort_values('Points', ascending=False)\n",
    "eplPointsTable.index = np.arange(1, len(eplPointsTable)+1) \n",
    "eplPointsTable.round(2)"
   ]
  },
  {
   "cell_type": "markdown",
   "metadata": {
    "slideshow": {
     "slide_type": "slide"
    }
   },
   "source": [
    "Assim, parece que Liverpool e Man City terminarão na frente, com o Chelsea saltando à frente do Tottenham. \n",
    "\n",
    "O Man United está previsto para terminar em 5º lugar, com o Arsenal logo atrás. \n",
    "\n",
    "Os resultados parecem concordar com a opinião pública em geral - vamos apenas trazer Fergie de volta (por favor)\n",
    "\n",
    "Encontre o código completo aqui"
   ]
  },
  {
   "cell_type": "markdown",
   "metadata": {
    "slideshow": {
     "slide_type": "slide"
    }
   },
   "source": [
    "### Conclusão\n",
    "Como sempre, há muito espaço para melhorias. Algumas ideias para experimentar:  \n",
    "\n",
    "Considerando o tempo como um fator: a forma de uma equipe pode desempenhar um papel importante, e as médias ponderadas pelo tempo podem ser consideradas para atribuir mais importância aos jogos recentes  \n",
    "\n",
    "Pode ser interessante ver se as classificações do gerente no momento como um parâmetro podem melhorar a eficiência\n",
    "Melhorando a subestimação de empates do modelo, a ideia geral sendo que as chances de empate no mundo real são mais do que a estimativa média do modelo de empates  \n",
    "\n",
    "Apesar das deficiências, o modelo é um bom ponto de partida com uma precisão decente. E o exercício foi divertido, afinal, me rendeu o primeiro lugar no evento: D"
   ]
  },
  {
   "cell_type": "code",
   "execution_count": null,
   "metadata": {},
   "outputs": [],
   "source": []
  }
 ],
 "metadata": {
  "celltoolbar": "Slideshow",
  "kernelspec": {
   "display_name": "Python 3",
   "language": "python",
   "name": "python3"
  },
  "language_info": {
   "codemirror_mode": {
    "name": "ipython",
    "version": 3
   },
   "file_extension": ".py",
   "mimetype": "text/x-python",
   "name": "python",
   "nbconvert_exporter": "python",
   "pygments_lexer": "ipython3",
   "version": "3.7.7"
  },
  "latex_envs": {
   "LaTeX_envs_menu_present": true,
   "autoclose": false,
   "autocomplete": true,
   "bibliofile": "biblio.bib",
   "cite_by": "apalike",
   "current_citInitial": 1,
   "eqLabelWithNumbers": true,
   "eqNumInitial": 1,
   "hotkeys": {
    "equation": "Ctrl-E",
    "itemize": "Ctrl-I"
   },
   "labels_anchors": false,
   "latex_user_defs": false,
   "report_style_numbering": false,
   "user_envs_cfg": false
  },
  "toc": {
   "base_numbering": 1,
   "nav_menu": {},
   "number_sections": false,
   "sideBar": true,
   "skip_h1_title": false,
   "title_cell": "Table of Contents",
   "title_sidebar": "Contents",
   "toc_cell": false,
   "toc_position": {},
   "toc_section_display": true,
   "toc_window_display": false
  }
 },
 "nbformat": 4,
 "nbformat_minor": 2
}
